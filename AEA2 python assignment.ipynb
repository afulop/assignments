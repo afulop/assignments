{
 "cells": [
  {
   "cell_type": "markdown",
   "metadata": {},
   "source": [
    "# Python assignment\n",
    "\n",
    "|Name|Student number|ANR|\n",
    "|----|-------|----------|\n",
    "|Veerle van Heesch|u1256229|199779|\n",
    "|Anouk Fülöp|u1256771|151879|\n",
    "\n",
    "\n",
    "In this python notebook we will provide an easy cartel detection *empirical screen*.  \n",
    "\n",
    "\n",
    "The notebook is setup as follows we start with the [Introduction](#1) and we introduce the [Question](#2) together with the [Method](#3) and [Main assumptions](#4). The main part of the notebook consists of the [Data collection](#5) and [Creating the graphs](#6). Finally we have the [Discussion](#7), [Answer to the research question](#8), [Conclusion](#9) and [References](#10).\n"
   ]
  },
  {
   "cell_type": "markdown",
   "metadata": {},
   "source": [
    "<a id= '1' ></a> "
   ]
  },
  {
   "cell_type": "markdown",
   "metadata": {},
   "source": [
    "# Introduction \n",
    "\n",
    "Overall we can identify two main proactive cartel detection methods in the literature (Harrington, 2008). The first can be classified as a *“structural approach”* and it looks at the structure of the industry at hand “scoring” the likelihood of collusion based on factors such as homogenous product, too few competitors, stability of demand, and other commonly used collusive markers. This method is the most widely applicable, it can be used even if there is no prior information on collusion and only data during the cartel regime is required. However, this method does not provide evidence of collusion but rather evidence that the industry indicators do not sit well with industries that are competitive. The second type of economic analysis in cartel detection is empirical and uses what has become commonly known as *“screens,”* or sometimes *“empirical screens.”* These analyses use time-series, cross-sectional data, and/or panel data sets on variables that measure potential anticompetitive behaviour. Screens use commonly available data such as prices, bids, quotes, spreads, market shares, volumes, and other data to identify patterns. This could be associated with the formation of a cartel but also with its demise. This method requires data outside of the time of suspected collusion."
   ]
  },
  {
   "cell_type": "markdown",
   "metadata": {},
   "source": [
    "### Motivation \n",
    "\n",
    "Being able to proactively detect cartels."
   ]
  },
  {
   "cell_type": "markdown",
   "metadata": {},
   "source": [
    "<a id= '2' ></a> "
   ]
  },
  {
   "cell_type": "markdown",
   "metadata": {},
   "source": [
    "# Question\n",
    "\n",
    "From the master thesis 'The probability of collusion in European Industries' (van Heesch, 2017) we find a group of industries with a high probability of collusion found by using the *structural approaoch*. \n",
    "\n",
    "|NACErev|Industry|Probability|\n",
    "|----|-------|----------|\n",
    "|1400 |Manufacture of wearing apparel |.7749028|\n",
    "|2053 |Manufacture of essential oils |.4516725|\n",
    "|2443 |Lead, zinc and tin production |.4426515|\n",
    "|9512| Repair of consumer electronics |.297112|\n",
    "|6202 |Computer consultancy activities |.1463635|\n",
    "\n",
    "\n",
    "Can we verify these results when we check for a structural break in the following indicators? \n",
    "\n",
    "1) Profit margin behaviour, if there are abrupt upward changes in price (or price-cost margins) or if the prices are stable we expect collusive behaviour (Harrington, 2008))\n",
    "\n",
    "2) Average market share, if we see highly symmetric and stable market shares we expect collusive behaviour (Grout and Sonderegger, 2005). \n",
    "\n",
    "\n",
    "\n"
   ]
  },
  {
   "cell_type": "markdown",
   "metadata": {},
   "source": [
    "<a id= '3' ></a> "
   ]
  },
  {
   "cell_type": "markdown",
   "metadata": {},
   "source": [
    "### Method \n",
    "A key issue in any empirical methodology is how to gather the necessary data without revealing the ongoing investigation to cartels. The data source AMADEUS, has data available through public sources, such as industry reports or official databases. Hence it can be updated easily without catching the attention of industries. The industry data is available at the NACERev2 four-digit level  from 2010 to 2015. The data provides information such as, total sales and total assets per company so we are able to generate various collusive markers from the data.\n",
    "\n",
    "The dataset can only be aquired from several university computers, the dataset is available in the repository 'Assignments'. It can not simply be downloaded online. To use the dataset download it and make sure it is in the same folder as your notebook.\n"
   ]
  },
  {
   "cell_type": "markdown",
   "metadata": {},
   "source": [
    "<a id= '4' ></a> "
   ]
  },
  {
   "cell_type": "markdown",
   "metadata": {},
   "source": [
    "### Main assumptions \n",
    "\n",
    "Assumption 1) Using industry data also introduces a limitation because the NACERev2 industry classification does not necessarily capture the relevant markets, in competition law terms. Since the data is available to us through public sources we cannot solve this problem in our analysis. Further development of the proactive cartel detection regression might solve this issue. You can find the classification of the NACERev codes [here](http://ec.europa.eu/eurostat/documents/3859598/5902521/KS-RA-07-015-EN.PDF) (page page 61 to 90).\n",
    "\n",
    "Assumption 2) We only have data for a subsection of years, what we see in the graph might be collusive but can be hard to identify if the beginning and ending of the cartel is not in our dataset. We are therefore only able to identify collusive behaviour if it started and ended in the period 2008-2015.\n",
    "\n",
    "Assumption 3) We cannot correct for shocks in the market so every break is identified as suspiscious. The dataset should be extended with this information.  Because we have information on the years 2008-2015 which include the economic crisis we should be cautious when making conclusions."
   ]
  },
  {
   "cell_type": "markdown",
   "metadata": {},
   "source": [
    "<a id= '5' ></a> "
   ]
  },
  {
   "cell_type": "markdown",
   "metadata": {},
   "source": [
    "## Data collection\n",
    "\n",
    "First we import pandas because we need it to import our dataset, which is in excel format. You will likely get a warning because of mixed types, but this warning can be ignored. Types will be corrected later in the notebook."
   ]
  },
  {
   "cell_type": "code",
   "execution_count": 1,
   "metadata": {},
   "outputs": [
    {
     "name": "stderr",
     "output_type": "stream",
     "text": [
      "c:\\users\\koeki\\anaconda3\\lib\\site-packages\\IPython\\core\\interactiveshell.py:2902: DtypeWarning: Columns (3,5,13,14,17,19,24) have mixed types. Specify dtype option on import or set low_memory=False.\n",
      "  interactivity=interactivity, compiler=compiler, result=result)\n"
     ]
    }
   ],
   "source": [
    "import pandas as pd\n",
    "data = pd.read_csv('Dataset.csv', sep = ';')\n",
    "%matplotlib inline"
   ]
  },
  {
   "cell_type": "markdown",
   "metadata": {},
   "source": [
    "After importing we check what we have."
   ]
  },
  {
   "cell_type": "code",
   "execution_count": 2,
   "metadata": {},
   "outputs": [
    {
     "data": {
      "text/html": [
       "<div>\n",
       "<style>\n",
       "    .dataframe thead tr:only-child th {\n",
       "        text-align: right;\n",
       "    }\n",
       "\n",
       "    .dataframe thead th {\n",
       "        text-align: left;\n",
       "    }\n",
       "\n",
       "    .dataframe tbody tr th {\n",
       "        vertical-align: top;\n",
       "    }\n",
       "</style>\n",
       "<table border=\"1\" class=\"dataframe\">\n",
       "  <thead>\n",
       "    <tr style=\"text-align: right;\">\n",
       "      <th></th>\n",
       "      <th>Year</th>\n",
       "      <th>Company name</th>\n",
       "      <th>Country\n",
       "ISO\n",
       "Code</th>\n",
       "      <th>NACE Rev. 2</th>\n",
       "      <th>Operating revenue (Turnover) th EUR</th>\n",
       "      <th>Number of employees</th>\n",
       "      <th>GUO - Name</th>\n",
       "      <th>Capital Expenditures\n",
       "th EUR</th>\n",
       "      <th>Sales\n",
       "th EUR</th>\n",
       "      <th>Export revenue\n",
       "th EUR</th>\n",
       "      <th>...</th>\n",
       "      <th>Shareholder - Company taking liability</th>\n",
       "      <th>Total assets (last value)\n",
       "th EUR</th>\n",
       "      <th>No of companies in corporate group</th>\n",
       "      <th>DMC\n",
       "Gender</th>\n",
       "      <th>DMC age</th>\n",
       "      <th>DMC\n",
       "Country/ies of nationality</th>\n",
       "      <th>DMC\n",
       "Also a shareholder</th>\n",
       "      <th>DMC\n",
       "Compensation salary\n",
       "USD</th>\n",
       "      <th>Major customer - Revenue (%)</th>\n",
       "      <th>DMC\n",
       "Degree code</th>\n",
       "    </tr>\n",
       "  </thead>\n",
       "  <tbody>\n",
       "    <tr>\n",
       "      <th>0</th>\n",
       "      <td>2010</td>\n",
       "      <td>VOLKSWAGEN AG</td>\n",
       "      <td>DE</td>\n",
       "      <td>2910</td>\n",
       "      <td>131098000</td>\n",
       "      <td>399381</td>\n",
       "      <td>FAMILIEN PORSCHE/PIECH</td>\n",
       "      <td></td>\n",
       "      <td>126875000</td>\n",
       "      <td></td>\n",
       "      <td>...</td>\n",
       "      <td>No</td>\n",
       "      <td>409732000</td>\n",
       "      <td>1526</td>\n",
       "      <td>M</td>\n",
       "      <td>63</td>\n",
       "      <td>Germany</td>\n",
       "      <td>No</td>\n",
       "      <td></td>\n",
       "      <td></td>\n",
       "      <td>NaN</td>\n",
       "    </tr>\n",
       "    <tr>\n",
       "      <th>1</th>\n",
       "      <td>2010</td>\n",
       "      <td>ROYAL DUTCH SHELL PLC</td>\n",
       "      <td>GB</td>\n",
       "      <td>610</td>\n",
       "      <td>275554213.6</td>\n",
       "      <td>97000</td>\n",
       "      <td>ROYAL DUTCH SHELL PLC</td>\n",
       "      <td></td>\n",
       "      <td>275305877.6</td>\n",
       "      <td></td>\n",
       "      <td>...</td>\n",
       "      <td>No</td>\n",
       "      <td>390167130</td>\n",
       "      <td>1276</td>\n",
       "      <td>NaN</td>\n",
       "      <td>NaN</td>\n",
       "      <td>NaN</td>\n",
       "      <td>NaN</td>\n",
       "      <td>NaN</td>\n",
       "      <td></td>\n",
       "      <td>NaN</td>\n",
       "    </tr>\n",
       "    <tr>\n",
       "      <th>2</th>\n",
       "      <td>2010</td>\n",
       "      <td>BP PLC</td>\n",
       "      <td>GB</td>\n",
       "      <td>1920</td>\n",
       "      <td>222539715.6</td>\n",
       "      <td>79700</td>\n",
       "      <td>BP PLC</td>\n",
       "      <td></td>\n",
       "      <td>222236027.6</td>\n",
       "      <td></td>\n",
       "      <td>...</td>\n",
       "      <td>No</td>\n",
       "      <td>249801830.9</td>\n",
       "      <td>1253</td>\n",
       "      <td>NaN</td>\n",
       "      <td>NaN</td>\n",
       "      <td>NaN</td>\n",
       "      <td>NaN</td>\n",
       "      <td>NaN</td>\n",
       "      <td></td>\n",
       "      <td>NaN</td>\n",
       "    </tr>\n",
       "    <tr>\n",
       "      <th>3</th>\n",
       "      <td>2010</td>\n",
       "      <td>VITOL HOLDING B.V.</td>\n",
       "      <td>NL</td>\n",
       "      <td>6420</td>\n",
       "      <td>154211147.2</td>\n",
       "      <td>1996</td>\n",
       "      <td>VITOL HOLDING II SA</td>\n",
       "      <td></td>\n",
       "      <td>154211147.2</td>\n",
       "      <td></td>\n",
       "      <td>...</td>\n",
       "      <td>No</td>\n",
       "      <td>23426302.64</td>\n",
       "      <td>138</td>\n",
       "      <td>M</td>\n",
       "      <td>53</td>\n",
       "      <td>United States</td>\n",
       "      <td>No</td>\n",
       "      <td></td>\n",
       "      <td></td>\n",
       "      <td>NaN</td>\n",
       "    </tr>\n",
       "    <tr>\n",
       "      <th>4</th>\n",
       "      <td>2010</td>\n",
       "      <td>DAIMLER AG</td>\n",
       "      <td>DE</td>\n",
       "      <td>2910</td>\n",
       "      <td>98584000</td>\n",
       "      <td>260100</td>\n",
       "      <td>DAIMLER AG</td>\n",
       "      <td></td>\n",
       "      <td>97761000</td>\n",
       "      <td></td>\n",
       "      <td>...</td>\n",
       "      <td>No</td>\n",
       "      <td>242988000</td>\n",
       "      <td>653</td>\n",
       "      <td>M</td>\n",
       "      <td>57</td>\n",
       "      <td>NaN</td>\n",
       "      <td>No</td>\n",
       "      <td></td>\n",
       "      <td></td>\n",
       "      <td>NaN</td>\n",
       "    </tr>\n",
       "  </tbody>\n",
       "</table>\n",
       "<p>5 rows × 25 columns</p>\n",
       "</div>"
      ],
      "text/plain": [
       "   Year           Company name Country\\nISO\\nCode NACE Rev. 2  \\\n",
       "0  2010          VOLKSWAGEN AG                 DE        2910   \n",
       "1  2010  ROYAL DUTCH SHELL PLC                 GB         610   \n",
       "2  2010                 BP PLC                 GB        1920   \n",
       "3  2010     VITOL HOLDING B.V.                 NL        6420   \n",
       "4  2010             DAIMLER AG                 DE        2910   \n",
       "\n",
       "  Operating revenue (Turnover) th EUR\\n Number of employees\\n  \\\n",
       "0                             131098000                399381   \n",
       "1                           275554213.6                 97000   \n",
       "2                           222539715.6                 79700   \n",
       "3                           154211147.2                  1996   \n",
       "4                              98584000                260100   \n",
       "\n",
       "               GUO - Name Capital Expenditures\\nth EUR Sales\\nth EUR\\n  \\\n",
       "0  FAMILIEN PORSCHE/PIECH                                    126875000   \n",
       "1   ROYAL DUTCH SHELL PLC                                  275305877.6   \n",
       "2                  BP PLC                                  222236027.6   \n",
       "3     VITOL HOLDING II SA                                  154211147.2   \n",
       "4              DAIMLER AG                                     97761000   \n",
       "\n",
       "  Export revenue\\nth EUR\\n       ...         \\\n",
       "0                                ...          \n",
       "1                                ...          \n",
       "2                                ...          \n",
       "3                                ...          \n",
       "4                                ...          \n",
       "\n",
       "  Shareholder - Company taking liability Total assets (last value)\\nth EUR  \\\n",
       "0                                     No                         409732000   \n",
       "1                                     No                         390167130   \n",
       "2                                     No                       249801830.9   \n",
       "3                                     No                       23426302.64   \n",
       "4                                     No                         242988000   \n",
       "\n",
       "  No of companies in corporate group DMC\\nGender DMC age  \\\n",
       "0                               1526           M      63   \n",
       "1                               1276         NaN     NaN   \n",
       "2                               1253         NaN     NaN   \n",
       "3                                138           M      53   \n",
       "4                                653           M      57   \n",
       "\n",
       "  DMC\\nCountry/ies of nationality DMC\\nAlso a shareholder  \\\n",
       "0                         Germany                      No   \n",
       "1                             NaN                     NaN   \n",
       "2                             NaN                     NaN   \n",
       "3                   United States                      No   \n",
       "4                             NaN                      No   \n",
       "\n",
       "  DMC\\nCompensation salary\\nUSD Major customer - Revenue (%) DMC\\nDegree code  \n",
       "0                                                                         NaN  \n",
       "1                           NaN                                           NaN  \n",
       "2                           NaN                                           NaN  \n",
       "3                                                                         NaN  \n",
       "4                                                                         NaN  \n",
       "\n",
       "[5 rows x 25 columns]"
      ]
     },
     "execution_count": 2,
     "metadata": {},
     "output_type": "execute_result"
    }
   ],
   "source": [
    "data.head(5)"
   ]
  },
  {
   "cell_type": "markdown",
   "metadata": {},
   "source": [
    "### Cleaning the dataset \n",
    "\n",
    "Because our dataset is very large we decided that we need to drop a few variables that we do not need for further analysis."
   ]
  },
  {
   "cell_type": "code",
   "execution_count": 3,
   "metadata": {},
   "outputs": [],
   "source": [
    "data.drop (['Company name', 'GUO - Name', 'Number of current\\ndirectors / managers / contacts', \n",
    "               'Number of previous\\ndirectors / managers / contacts', 'Shareholder - Company taking liability', \n",
    "               'No of companies in corporate group', 'DMC\\nGender', 'DMC age', 'DMC\\nCountry/ies of nationality', \n",
    "               'DMC\\nAlso a shareholder', 'DMC\\nCompensation salary\\nUSD','Major customer - Revenue (%)', 'DMC\\nDegree code', 'Export revenue\\nth EUR\\n'  \n",
    "              ], inplace=True,axis=1) #We do not need these variables for our analysis \n"
   ]
  },
  {
   "cell_type": "code",
   "execution_count": 4,
   "metadata": {},
   "outputs": [
    {
     "data": {
      "text/plain": [
       "Year                                      int64\n",
       "Country\\nISO\\nCode                       object\n",
       "NACE Rev. 2                              object\n",
       "Operating revenue (Turnover) th EUR\\n    object\n",
       "Number of employees\\n                    object\n",
       "Capital Expenditures\\nth EUR             object\n",
       "Sales\\nth EUR\\n                          object\n",
       "Net Sales\\nth EUR\\n                      object\n",
       "Profit margin\\n%                         object\n",
       "Purchased R&D\\nth EUR\\n                  object\n",
       "Total assets (last value)\\nth EUR        object\n",
       "dtype: object"
      ]
     },
     "execution_count": 4,
     "metadata": {},
     "output_type": "execute_result"
    }
   ],
   "source": [
    "data.dtypes #We check the types of the variables because we cannot work with objects "
   ]
  },
  {
   "cell_type": "code",
   "execution_count": 5,
   "metadata": {},
   "outputs": [],
   "source": [
    "#We rename some of the variables to make it more easy to work with them\n",
    "data = data.rename_axis ({'NACE Rev. 2': 'NACErev', 'Operating revenue (Turnover) th EUR\\n': 'OperatingRevenue',\n",
    "                         'Number of employees\\n': 'NumberofEmployees', 'Capital Expenditures\\nth EUR': 'CapitalExpenditures',\n",
    "                          'Sales\\nth EUR\\n': 'Sales', 'Net Sales\\nth EUR\\n': 'NetSales', 'Profit margin\\n%': 'ProfitMargin', \n",
    "                          'Purchased R&D\\nth EUR\\n':'PurchasedR&D', 'Total assets (last value)\\nth EUR': 'TotalAssets'}, axis='columns')"
   ]
  },
  {
   "cell_type": "code",
   "execution_count": 6,
   "metadata": {
    "scrolled": true
   },
   "outputs": [],
   "source": [
    " #We change the type from object to float \n",
    "data = data.apply(pd.to_numeric, errors='coerce', axis=0)"
   ]
  },
  {
   "cell_type": "code",
   "execution_count": 7,
   "metadata": {},
   "outputs": [
    {
     "data": {
      "text/plain": [
       "Year                     int64\n",
       "Country\\nISO\\nCode     float64\n",
       "NACErev                float64\n",
       "OperatingRevenue       float64\n",
       "NumberofEmployees      float64\n",
       "CapitalExpenditures    float64\n",
       "Sales                  float64\n",
       "NetSales               float64\n",
       "ProfitMargin           float64\n",
       "PurchasedR&D           float64\n",
       "TotalAssets            float64\n",
       "dtype: object"
      ]
     },
     "execution_count": 7,
     "metadata": {},
     "output_type": "execute_result"
    }
   ],
   "source": [
    "data.dtypes"
   ]
  },
  {
   "cell_type": "code",
   "execution_count": 8,
   "metadata": {
    "scrolled": true
   },
   "outputs": [
    {
     "data": {
      "text/html": [
       "<div>\n",
       "<style>\n",
       "    .dataframe thead tr:only-child th {\n",
       "        text-align: right;\n",
       "    }\n",
       "\n",
       "    .dataframe thead th {\n",
       "        text-align: left;\n",
       "    }\n",
       "\n",
       "    .dataframe tbody tr th {\n",
       "        vertical-align: top;\n",
       "    }\n",
       "</style>\n",
       "<table border=\"1\" class=\"dataframe\">\n",
       "  <thead>\n",
       "    <tr style=\"text-align: right;\">\n",
       "      <th></th>\n",
       "      <th>Year</th>\n",
       "      <th>Country\n",
       "ISO\n",
       "Code</th>\n",
       "      <th>NACErev</th>\n",
       "      <th>OperatingRevenue</th>\n",
       "      <th>NumberofEmployees</th>\n",
       "      <th>CapitalExpenditures</th>\n",
       "      <th>Sales</th>\n",
       "      <th>NetSales</th>\n",
       "      <th>ProfitMargin</th>\n",
       "      <th>PurchasedR&amp;D</th>\n",
       "      <th>TotalAssets</th>\n",
       "    </tr>\n",
       "  </thead>\n",
       "  <tbody>\n",
       "    <tr>\n",
       "      <th>0</th>\n",
       "      <td>2010</td>\n",
       "      <td>NaN</td>\n",
       "      <td>2910.0</td>\n",
       "      <td>131098000.0</td>\n",
       "      <td>399381.0</td>\n",
       "      <td>NaN</td>\n",
       "      <td>126875000.0</td>\n",
       "      <td>126875000.0</td>\n",
       "      <td>6.861</td>\n",
       "      <td>NaN</td>\n",
       "      <td>4.097320e+08</td>\n",
       "    </tr>\n",
       "    <tr>\n",
       "      <th>1</th>\n",
       "      <td>2010</td>\n",
       "      <td>NaN</td>\n",
       "      <td>610.0</td>\n",
       "      <td>275554213.6</td>\n",
       "      <td>97000.0</td>\n",
       "      <td>NaN</td>\n",
       "      <td>275305877.6</td>\n",
       "      <td>275305877.6</td>\n",
       "      <td>9.594</td>\n",
       "      <td>NaN</td>\n",
       "      <td>3.901671e+08</td>\n",
       "    </tr>\n",
       "    <tr>\n",
       "      <th>2</th>\n",
       "      <td>2010</td>\n",
       "      <td>NaN</td>\n",
       "      <td>1920.0</td>\n",
       "      <td>222539715.6</td>\n",
       "      <td>79700.0</td>\n",
       "      <td>NaN</td>\n",
       "      <td>222236027.6</td>\n",
       "      <td>222236027.6</td>\n",
       "      <td>-1.622</td>\n",
       "      <td>NaN</td>\n",
       "      <td>2.498018e+08</td>\n",
       "    </tr>\n",
       "    <tr>\n",
       "      <th>3</th>\n",
       "      <td>2010</td>\n",
       "      <td>NaN</td>\n",
       "      <td>6420.0</td>\n",
       "      <td>154211147.2</td>\n",
       "      <td>1996.0</td>\n",
       "      <td>NaN</td>\n",
       "      <td>154211147.2</td>\n",
       "      <td>NaN</td>\n",
       "      <td>0.672</td>\n",
       "      <td>NaN</td>\n",
       "      <td>2.342630e+07</td>\n",
       "    </tr>\n",
       "    <tr>\n",
       "      <th>4</th>\n",
       "      <td>2010</td>\n",
       "      <td>NaN</td>\n",
       "      <td>2910.0</td>\n",
       "      <td>98584000.0</td>\n",
       "      <td>260100.0</td>\n",
       "      <td>NaN</td>\n",
       "      <td>97761000.0</td>\n",
       "      <td>97761000.0</td>\n",
       "      <td>6.723</td>\n",
       "      <td>NaN</td>\n",
       "      <td>2.429880e+08</td>\n",
       "    </tr>\n",
       "  </tbody>\n",
       "</table>\n",
       "</div>"
      ],
      "text/plain": [
       "   Year  Country\\nISO\\nCode  NACErev  OperatingRevenue  NumberofEmployees  \\\n",
       "0  2010                 NaN   2910.0       131098000.0           399381.0   \n",
       "1  2010                 NaN    610.0       275554213.6            97000.0   \n",
       "2  2010                 NaN   1920.0       222539715.6            79700.0   \n",
       "3  2010                 NaN   6420.0       154211147.2             1996.0   \n",
       "4  2010                 NaN   2910.0        98584000.0           260100.0   \n",
       "\n",
       "   CapitalExpenditures        Sales     NetSales  ProfitMargin  PurchasedR&D  \\\n",
       "0                  NaN  126875000.0  126875000.0         6.861           NaN   \n",
       "1                  NaN  275305877.6  275305877.6         9.594           NaN   \n",
       "2                  NaN  222236027.6  222236027.6        -1.622           NaN   \n",
       "3                  NaN  154211147.2          NaN         0.672           NaN   \n",
       "4                  NaN   97761000.0   97761000.0         6.723           NaN   \n",
       "\n",
       "    TotalAssets  \n",
       "0  4.097320e+08  \n",
       "1  3.901671e+08  \n",
       "2  2.498018e+08  \n",
       "3  2.342630e+07  \n",
       "4  2.429880e+08  "
      ]
     },
     "execution_count": 8,
     "metadata": {},
     "output_type": "execute_result"
    }
   ],
   "source": [
    "data.head(5) #A final check to see if all our changes where done properly"
   ]
  },
  {
   "cell_type": "markdown",
   "metadata": {},
   "source": [
    "<a id= '6' ></a> "
   ]
  },
  {
   "cell_type": "markdown",
   "metadata": {},
   "source": [
    "\n",
    "### Creating the graphs \n"
   ]
  },
  {
   "cell_type": "markdown",
   "metadata": {},
   "source": [
    "#### Step 1) Download python packages\n",
    "The first step is to get all the python packages we need in order to perform our analysis."
   ]
  },
  {
   "cell_type": "code",
   "execution_count": 9,
   "metadata": {},
   "outputs": [],
   "source": [
    "from __future__ import division\n",
    "from numpy import *\n",
    "import numpy as np \n",
    "from operator import *\n",
    "import matplotlib.pyplot as plt\n",
    "from scipy import optimize, arange\n",
    "from operator import add\n",
    "%matplotlib inline"
   ]
  },
  {
   "cell_type": "markdown",
   "metadata": {},
   "source": [
    "For the graphs we use the plotly package. If you have not yet installed it you can find instructions on how to do so [here](https://plot.ly/python/getting-started/)."
   ]
  },
  {
   "cell_type": "code",
   "execution_count": 10,
   "metadata": {},
   "outputs": [
    {
     "name": "stdout",
     "output_type": "stream",
     "text": [
      "2.2.3\n"
     ]
    }
   ],
   "source": [
    "#Import plotly\n",
    "import plotly.plotly as py\n",
    "from plotly import __version__\n",
    "from plotly.offline import download_plotlyjs, init_notebook_mode, plot, iplot\n",
    "\n",
    "print (__version__) #plotly requires version >= 1.9.0"
   ]
  },
  {
   "cell_type": "code",
   "execution_count": 11,
   "metadata": {},
   "outputs": [
    {
     "data": {
      "text/html": [
       "<script>requirejs.config({paths: { 'plotly': ['https://cdn.plot.ly/plotly-latest.min']},});if(!window.Plotly) {{require(['plotly'],function(plotly) {window.Plotly=plotly;});}}</script>"
      ],
      "text/vnd.plotly.v1+html": [
       "<script>requirejs.config({paths: { 'plotly': ['https://cdn.plot.ly/plotly-latest.min']},});if(!window.Plotly) {{require(['plotly'],function(plotly) {window.Plotly=plotly;});}}</script>"
      ]
     },
     "metadata": {},
     "output_type": "display_data"
    }
   ],
   "source": [
    "init_notebook_mode(connected=True)  #To have the plotly graphs in the notebook"
   ]
  },
  {
   "cell_type": "code",
   "execution_count": 12,
   "metadata": {},
   "outputs": [],
   "source": [
    "from plotly.graph_objs import *\n",
    "import plotly.graph_objs as go"
   ]
  },
  {
   "cell_type": "markdown",
   "metadata": {},
   "source": [
    "### 1) Profit margin\n",
    "\n",
    "#### Step 2) Collapse NACErev codes per year \n",
    "The second step is to get the mean values of the variables per NACErev code and per year."
   ]
  },
  {
   "cell_type": "code",
   "execution_count": 13,
   "metadata": {},
   "outputs": [],
   "source": [
    "#We look at the NACErev codes selected above and then group by year to keep the values per year instead of having just one value\n",
    "col1400 = data[data['NACErev'] == 1400].groupby(['Year'], as_index=False).mean()\n",
    "col2053 = data[data['NACErev'] == 2053].groupby(['Year'], as_index=False).mean()\n",
    "col2443 = data[data['NACErev'] == 2443].groupby(['Year'], as_index=False).mean()\n",
    "col9512 = data[data['NACErev'] == 9512].groupby(['Year'], as_index=False).mean()\n",
    "col6202 = data[data['NACErev'] == 6202].groupby(['Year'], as_index=False).mean()"
   ]
  },
  {
   "cell_type": "markdown",
   "metadata": {},
   "source": [
    "#### Step 3) Create graph"
   ]
  },
  {
   "cell_type": "code",
   "execution_count": 14,
   "metadata": {
    "scrolled": false
   },
   "outputs": [
    {
     "data": {
      "text/html": [
       "<iframe id=\"igraph\" scrolling=\"no\" style=\"border:none;\" seamless=\"seamless\" src=\"https://plot.ly/~afulop94/112.embed\" height=\"525px\" width=\"100%\"></iframe>"
      ],
      "text/plain": [
       "<plotly.tools.PlotlyDisplay object>"
      ]
     },
     "execution_count": 14,
     "metadata": {},
     "output_type": "execute_result"
    }
   ],
   "source": [
    "#First we have to create the variables that we will use in the graph\n",
    "x1400 = col1400.Year\n",
    "y1400 = col1400.ProfitMargin\n",
    "\n",
    "x2053 = col2053.Year\n",
    "y2053 = col2053.ProfitMargin\n",
    "\n",
    "x2443 = col2443.Year\n",
    "y2443 = col2443.ProfitMargin\n",
    "\n",
    "x9512 = col9512.Year\n",
    "y9512 = col9512.ProfitMargin\n",
    "\n",
    "x6202 = col6202.Year\n",
    "y6202 = col6202.ProfitMargin\n",
    "\n",
    "#Then we create traces and put them together so they can be plotted in one graph\n",
    "trace1400 = go.Scatter(\n",
    "    x = x1400,\n",
    "    y = y1400,\n",
    "    mode = 'lines+markers',\n",
    "    name = 'NACErev 1400'\n",
    ")\n",
    "\n",
    "trace2053 = go.Scatter(\n",
    "    x = x2053,\n",
    "    y = y2053,\n",
    "    mode = 'lines+markers',\n",
    "    name = 'NACErev 2053'\n",
    ")\n",
    "\n",
    "trace2443 = go.Scatter(\n",
    "    x = x2443,\n",
    "    y = y2443,\n",
    "    mode = 'lines+markers',\n",
    "    name = 'NACErev 2443'\n",
    ")\n",
    "\n",
    "trace9512 = go.Scatter(\n",
    "    x = x9512,\n",
    "    y = y9512,\n",
    "    mode = 'lines+markers',\n",
    "    name = 'NACErev 9512'\n",
    ")\n",
    "\n",
    "trace6202 = go.Scatter(\n",
    "    x = x6202,\n",
    "    y = y6202,\n",
    "    mode = 'lines+markers',\n",
    "    name = 'NACErev 6202'\n",
    ")\n",
    "\n",
    "dataplot = [trace1400, trace2053, trace2443, trace9512, trace6202]\n",
    "\n",
    "#After that we have to define the layout of the graph\n",
    "layoutplot = go.Layout(\n",
    "    title= 'High probability of collusion',\n",
    "        xaxis= dict(\n",
    "        title= 'Year',\n",
    "        ticklen= 5,\n",
    "        zeroline= False,\n",
    "        gridwidth= 2,\n",
    "    ),\n",
    "    yaxis=dict(\n",
    "        title= 'Profit Margin',\n",
    "        ticklen= 5,\n",
    "        gridwidth= 2,\n",
    "    )\n",
    ")\n",
    "\n",
    "#Then we say what needs to be plotted and then plot the graph itself\n",
    "fig = dict(data=dataplot, layout=layoutplot)\n",
    "\n",
    "py.iplot(fig)"
   ]
  },
  {
   "cell_type": "markdown",
   "metadata": {},
   "source": [
    "From the graph we see that the profit margin of industry 6202 is very stable over time. Furthermore the profit margin of industry 2053 has a sharp upwards shock, as mentioned before we cannot check whether this shock is due to something other than collusion."
   ]
  },
  {
   "cell_type": "markdown",
   "metadata": {},
   "source": [
    "### 2) Average market share\n",
    "\n",
    "#### Step 4) Extra variables are necessary to conduct the analysis\n",
    "In order to look at the average market share we first have to create a variable for it"
   ]
  },
  {
   "cell_type": "code",
   "execution_count": 15,
   "metadata": {},
   "outputs": [],
   "source": [
    "#Look at the variables per year for the chosen NACErev codes\n",
    "ms1400 = data[data['NACErev'] == 1400].groupby(['Year'])\n",
    "ms2053 = data[data['NACErev'] == 2053].groupby(['Year'])\n",
    "ms2443 = data[data['NACErev'] == 2443].groupby(['Year'])\n",
    "ms9512 = data[data['NACErev'] == 9512].groupby(['Year'])\n",
    "ms6202 = data[data['NACErev'] == 6202].groupby(['Year'])"
   ]
  },
  {
   "cell_type": "code",
   "execution_count": 16,
   "metadata": {},
   "outputs": [],
   "source": [
    "#Summing the sales gives us the total sales per NACErev code\n",
    "totalsales1400 = ms1400.Sales.sum()\n",
    "totalsales2053 = ms2053.Sales.sum()\n",
    "totalsales2443 = ms2443.Sales.sum()\n",
    "totalsales9512 = ms9512.Sales.sum()\n",
    "totalsales6202 = ms6202.Sales.sum()"
   ]
  },
  {
   "cell_type": "code",
   "execution_count": 17,
   "metadata": {},
   "outputs": [],
   "source": [
    "#We also take a look at the mean of the sales\n",
    "sales1400 = ms1400.Sales.mean()\n",
    "sales2053 = ms2053.Sales.mean()\n",
    "sales2443 = ms2443.Sales.mean()\n",
    "sales9512 = ms9512.Sales.mean()\n",
    "sales6202 = ms6202.Sales.mean()"
   ]
  },
  {
   "cell_type": "code",
   "execution_count": 18,
   "metadata": {},
   "outputs": [],
   "source": [
    "#Average market share is then based on the mean divided by the total\n",
    "marketshare1400 = sales1400/totalsales1400\n",
    "marketshare2053 = sales2053/totalsales2053\n",
    "marketshare2443 = sales2443/totalsales2443\n",
    "marketshare9512 = sales9512/totalsales9512\n",
    "marketshare6202 = sales6202/totalsales6202"
   ]
  },
  {
   "cell_type": "markdown",
   "metadata": {},
   "source": [
    "We are aware that these are not the actual market shares however this does show us 100 / the amount of firms in the industry, therefore we refer to this variable as the average market share."
   ]
  },
  {
   "cell_type": "markdown",
   "metadata": {},
   "source": [
    "#### Step 5) Create graph"
   ]
  },
  {
   "cell_type": "code",
   "execution_count": 19,
   "metadata": {
    "scrolled": false
   },
   "outputs": [
    {
     "data": {
      "text/html": [
       "<iframe id=\"igraph\" scrolling=\"no\" style=\"border:none;\" seamless=\"seamless\" src=\"https://plot.ly/~afulop94/114.embed\" height=\"525px\" width=\"100%\"></iframe>"
      ],
      "text/plain": [
       "<plotly.tools.PlotlyDisplay object>"
      ]
     },
     "execution_count": 19,
     "metadata": {},
     "output_type": "execute_result"
    }
   ],
   "source": [
    "#After creating the variable we again have to go through all same steps as before to get the graph.\n",
    "#These steps are creating the variables, traces, defining the layout and plotting the graph.\n",
    "x1400 = col1400.Year\n",
    "y1400 = marketshare1400\n",
    "\n",
    "x2053 = col2053.Year\n",
    "y2053 = marketshare2053\n",
    "\n",
    "x2443 = col2443.Year\n",
    "y2443 = marketshare2443\n",
    "\n",
    "x9512 = col9512.Year\n",
    "y9512 = marketshare9512\n",
    "\n",
    "x6202 = col6202.Year\n",
    "y6202 = marketshare6202\n",
    "\n",
    "trace1400 = go.Scatter(\n",
    "    x = x1400,\n",
    "    y = y1400,\n",
    "    mode = 'lines+markers',\n",
    "    name = 'NACErev 1400'\n",
    ")\n",
    "\n",
    "trace2053 = go.Scatter(\n",
    "    x = x2053,\n",
    "    y = y2053,\n",
    "    mode = 'lines+markers',\n",
    "    name = 'NACErev 2053'\n",
    ")\n",
    "\n",
    "trace2443 = go.Scatter(\n",
    "    x = x2443,\n",
    "    y = y2443,\n",
    "    mode = 'lines+markers',\n",
    "    name = 'NACErev 2443'\n",
    ")\n",
    "\n",
    "trace9512 = go.Scatter(\n",
    "    x = x9512,\n",
    "    y = y9512,\n",
    "    mode = 'lines+markers',\n",
    "    name = 'NACErev 9512'\n",
    ")\n",
    "\n",
    "trace6202 = go.Scatter(\n",
    "    x = x6202,\n",
    "    y = y6202,\n",
    "    mode = 'lines+markers',\n",
    "    name = 'NACErev 6202'\n",
    ")\n",
    "\n",
    "dataplot = [trace1400, trace2053, trace2443, trace9512, trace6202]\n",
    "\n",
    "layoutplot = go.Layout(\n",
    "    title= 'High probability of collusion',\n",
    "        xaxis= dict(\n",
    "        title= 'Year',\n",
    "        ticklen= 5,\n",
    "        zeroline= False,\n",
    "        gridwidth= 2,\n",
    "    ),\n",
    "    yaxis=dict(\n",
    "        title= 'Average Market Share',\n",
    "        ticklen= 5,\n",
    "        gridwidth= 2,\n",
    "    )\n",
    ")\n",
    "\n",
    "fig = dict(data=dataplot, layout=layoutplot)\n",
    "\n",
    "py.iplot(fig)"
   ]
  },
  {
   "cell_type": "markdown",
   "metadata": {},
   "source": [
    "From the graph we see that industry 6202 has many very small firms, which is not as expected when we expect collusion. Furthermore, industries 2053, 2443 and 9512 all show stable marketshares around 10%. "
   ]
  },
  {
   "cell_type": "markdown",
   "metadata": {},
   "source": [
    "<a id= '7' ></a> "
   ]
  },
  {
   "cell_type": "markdown",
   "metadata": {},
   "source": [
    "## Discussion - How do the graphs compare to graphs of industries that have had a cartel?\n",
    "\n",
    "\n",
    "After looking at industries with a high probability for a cartel we will now look at industries that have had cartels in the past to see if the analysis makes sense.\n",
    "\n",
    "|NACErev | Industry | Cartels detected |\n",
    "|--------------|---------|--------|\n",
    "|122 |Growing of tropical and subtropical fruits| 2|\n",
    "|1105 |Manufacture of beer| 4|\n",
    "|1419 |Manufacture of other wearing apparel and accessories |5|\n",
    "|2000 |Manufacture of chemicals and chemical products |5|\n",
    "|2013 |Manufacture of other inorganic basic chemicals |6|\n",
    "\n",
    "In order for us to compare we have to duplicate all the steps from the analysis above but change the NACErev codes"
   ]
  },
  {
   "cell_type": "markdown",
   "metadata": {},
   "source": [
    "### 1) Profit margin\n",
    "\n",
    "#### Step 6) Collapse NACErev codes per year"
   ]
  },
  {
   "cell_type": "code",
   "execution_count": 20,
   "metadata": {},
   "outputs": [],
   "source": [
    "#We look at the NACErev codes selected above and then group by year to keep the values per year instead of having just one value\n",
    "col122 = data[data['NACErev'] == 112].groupby(['Year'], as_index=False).mean()\n",
    "col1105 = data[data['NACErev'] == 1105].groupby(['Year'], as_index=False).mean()\n",
    "col1419 = data[data['NACErev'] == 1419].groupby(['Year'], as_index=False).mean()\n",
    "col2000 = data[data['NACErev'] == 2000].groupby(['Year'], as_index=False).mean()\n",
    "col2013 = data[data['NACErev'] == 2013].groupby(['Year'], as_index=False).mean()"
   ]
  },
  {
   "cell_type": "markdown",
   "metadata": {},
   "source": [
    "#### Step 7) Create graph"
   ]
  },
  {
   "cell_type": "code",
   "execution_count": 21,
   "metadata": {
    "scrolled": false
   },
   "outputs": [
    {
     "data": {
      "text/html": [
       "<iframe id=\"igraph\" scrolling=\"no\" style=\"border:none;\" seamless=\"seamless\" src=\"https://plot.ly/~afulop94/116.embed\" height=\"525px\" width=\"100%\"></iframe>"
      ],
      "text/plain": [
       "<plotly.tools.PlotlyDisplay object>"
      ]
     },
     "execution_count": 21,
     "metadata": {},
     "output_type": "execute_result"
    }
   ],
   "source": [
    "#After creating the variable we again have to go through all same steps as before to get the graph.\n",
    "#These steps are creating the variables, traces, defining the layout and plotting the graph\n",
    "x122 = col122.Year\n",
    "y122 = col122.ProfitMargin\n",
    "\n",
    "x1105 = col1105.Year\n",
    "y1105 = col1105.ProfitMargin\n",
    "\n",
    "x1419 = col1419.Year\n",
    "y1419 = col1419.ProfitMargin\n",
    "\n",
    "x2000 = col2000.Year\n",
    "y2000 = col2000.ProfitMargin\n",
    "\n",
    "x2013 = col2013.Year\n",
    "y2013 = col2013.ProfitMargin\n",
    "\n",
    "\n",
    "trace122 = go.Scatter(\n",
    "    x = x122,\n",
    "    y = y122,\n",
    "    mode = 'lines+markers',\n",
    "    name = 'NACErev 122'\n",
    ")\n",
    "\n",
    "trace1105 = go.Scatter(\n",
    "    x = x1105,\n",
    "    y = y1105,\n",
    "    mode = 'lines+markers',\n",
    "    name = 'NACErev 1105'\n",
    ")\n",
    "\n",
    "trace1419 = go.Scatter(\n",
    "    x = x1419,\n",
    "    y = y1419,\n",
    "    mode = 'lines+markers',\n",
    "    name = 'NACErev 1419'\n",
    ")\n",
    "\n",
    "trace2000 = go.Scatter(\n",
    "    x = x2000,\n",
    "    y = y2000,\n",
    "    mode = 'lines+markers',\n",
    "    name = 'NACErev 2000'\n",
    ")\n",
    "\n",
    "trace2013 = go.Scatter(\n",
    "    x = x2013,\n",
    "    y = y2013,\n",
    "    mode = 'lines+markers',\n",
    "    name = 'NACErev 2013'\n",
    ")\n",
    "\n",
    "dataplot = [trace122, trace1105, trace1419, trace2000, trace2013]\n",
    "\n",
    "\n",
    "layoutplot = go.Layout(\n",
    "    title= 'Proven past collusion',\n",
    "        xaxis= dict(\n",
    "        title= 'Year',\n",
    "        ticklen= 5,\n",
    "        zeroline= False,\n",
    "        gridwidth= 2,\n",
    "    ),\n",
    "    yaxis=dict(\n",
    "        title= 'Profit Margin',\n",
    "        ticklen= 5,\n",
    "        gridwidth= 2,\n",
    "    )\n",
    ")\n",
    "\n",
    "\n",
    "fig = dict(data=dataplot, layout=layoutplot)\n",
    "\n",
    "py.iplot(fig)"
   ]
  },
  {
   "cell_type": "markdown",
   "metadata": {},
   "source": [
    "From the graph we see that the industries that are known for having collusive behaviour have, for the most part, stable and postive profit margins. "
   ]
  },
  {
   "cell_type": "markdown",
   "metadata": {},
   "source": [
    "### 2) Average market share\n",
    "\n",
    "#### Step 8) Create the variables\n",
    "We have to take the same steps as before (get the variables per NACErev code per year, sum them, take the mean and then calculate the average market share)."
   ]
  },
  {
   "cell_type": "code",
   "execution_count": 22,
   "metadata": {},
   "outputs": [],
   "source": [
    "ms122 = data[data['NACErev'] == 122].groupby(['Year'])\n",
    "ms1105 = data[data['NACErev'] == 1105].groupby(['Year'])\n",
    "ms1419 = data[data['NACErev'] == 1419].groupby(['Year'])\n",
    "ms2000 = data[data['NACErev'] == 2000].groupby(['Year'])\n",
    "ms2013 = data[data['NACErev'] == 2013].groupby(['Year'])"
   ]
  },
  {
   "cell_type": "code",
   "execution_count": 23,
   "metadata": {},
   "outputs": [],
   "source": [
    "totalsales122 = ms122.Sales.sum()\n",
    "totalsales1105 = ms1105.Sales.sum()\n",
    "totalsales1419 = ms1419.Sales.sum()\n",
    "totalsales2000 = ms2000.Sales.sum()\n",
    "totalsales2013 = ms2013.Sales.sum()"
   ]
  },
  {
   "cell_type": "code",
   "execution_count": 24,
   "metadata": {},
   "outputs": [],
   "source": [
    "sales122 = ms122.Sales.mean()\n",
    "sales1105 = ms1105.Sales.mean()\n",
    "sales1419 = ms1419.Sales.mean()\n",
    "sales2000 = ms2000.Sales.mean()\n",
    "sales2013 = ms2013.Sales.mean()"
   ]
  },
  {
   "cell_type": "code",
   "execution_count": 25,
   "metadata": {},
   "outputs": [],
   "source": [
    "marketshare122 = sales122/totalsales122\n",
    "marketshare1105 = sales1105/totalsales1105\n",
    "marketshare1419 = sales1419/totalsales1419\n",
    "marketshare2000 = sales2000/totalsales2000\n",
    "marketshare2013 = sales2013/totalsales2013"
   ]
  },
  {
   "cell_type": "markdown",
   "metadata": {},
   "source": [
    "#### Step 9) Create graph"
   ]
  },
  {
   "cell_type": "code",
   "execution_count": 26,
   "metadata": {
    "scrolled": false
   },
   "outputs": [
    {
     "data": {
      "text/html": [
       "<iframe id=\"igraph\" scrolling=\"no\" style=\"border:none;\" seamless=\"seamless\" src=\"https://plot.ly/~afulop94/118.embed\" height=\"525px\" width=\"100%\"></iframe>"
      ],
      "text/plain": [
       "<plotly.tools.PlotlyDisplay object>"
      ]
     },
     "execution_count": 26,
     "metadata": {},
     "output_type": "execute_result"
    }
   ],
   "source": [
    "#After creating the variable we again have to go through all same steps as before to get the graph.\n",
    "#These steps are creating the variables, traces, defining the layout and plotting the graph\n",
    "x122 = col122.Year\n",
    "y122 = marketshare122\n",
    "\n",
    "x1105 = col1105.Year\n",
    "y1105 = marketshare1105\n",
    "\n",
    "x1419 = col1419.Year\n",
    "y1419 = marketshare1419\n",
    "\n",
    "x2000 = col2000.Year\n",
    "y2000 = marketshare2000\n",
    "\n",
    "x2013 = col2013.Year\n",
    "y2013 = marketshare2013\n",
    "\n",
    "\n",
    "trace122 = go.Scatter(\n",
    "    x = x122,\n",
    "    y = y122,\n",
    "    mode = 'lines+markers',\n",
    "    name = 'NACErev 122'\n",
    ")\n",
    "\n",
    "trace1105 = go.Scatter(\n",
    "    x = x1105,\n",
    "    y = y1105,\n",
    "    mode = 'lines+markers',\n",
    "    name = 'NACErev 1105'\n",
    ")\n",
    "\n",
    "trace1419 = go.Scatter(\n",
    "    x = x1419,\n",
    "    y = y1419,\n",
    "    mode = 'lines+markers',\n",
    "    name = 'NACErev 1419'\n",
    ")\n",
    "\n",
    "trace2000 = go.Scatter(\n",
    "    x = x2000,\n",
    "    y = y2000,\n",
    "    mode = 'lines+markers',\n",
    "    name = 'NACErev 2000'\n",
    ")\n",
    "\n",
    "trace2013 = go.Scatter(\n",
    "    x = x2013,\n",
    "    y = y2013,\n",
    "    mode = 'lines+markers',\n",
    "    name = 'NACErev 2013'\n",
    ")\n",
    "\n",
    "dataplot = [trace122, trace1105, trace1419, trace2000, trace2013]\n",
    "\n",
    "\n",
    "layoutplot = go.Layout(\n",
    "    title= 'Proven past collusion',\n",
    "        xaxis= dict(\n",
    "        title= 'Year',\n",
    "        ticklen= 5,\n",
    "        zeroline= False,\n",
    "        gridwidth= 2,\n",
    "    ),\n",
    "    yaxis=dict(\n",
    "        title= 'Average Market Share',\n",
    "        ticklen= 5,\n",
    "        gridwidth= 2,\n",
    "    )\n",
    ")\n",
    "\n",
    "\n",
    "fig = dict(data=dataplot, layout=layoutplot)\n",
    "\n",
    "py.iplot(fig)"
   ]
  },
  {
   "cell_type": "markdown",
   "metadata": {},
   "source": [
    "From the graph we see that industries 1105, 1419 and 2013 have very low but stable market shares, and that industry 112 have very few companies. Furthermore industry 2000 exhibits expected collusive market shares where they are stable around 10%. "
   ]
  },
  {
   "cell_type": "markdown",
   "metadata": {},
   "source": [
    "<a id= '8' ></a> "
   ]
  },
  {
   "cell_type": "markdown",
   "metadata": {},
   "source": [
    "# Answer to research question\n",
    "\n",
    "Referring back to the research question, can we verify these results when we check for a structural break in the following indicators? \n",
    "\n",
    "1) Profit margin behaviour\n",
    "\n",
    "2) Average market share\n",
    "\n",
    "Just looking at the graphs for the industries where we expected collusive behaviour, we found confirmation of collusion with a few industries. Industry 6202 had very stable profit margins, however it has many small firms and therefore a very low but stable average market share. Furthermore industry 2053 exhibits a sharp upward shock in propit margin and it has stable average market shares at around 10%. \n",
    "\n",
    "When we compare the graphs with graphs from industries where there has been collusion we find that indeed a collusion indicator is the high and stable profit margin and that industries have stable market share aound 10%. Assuming that the collsion in that industry took place in the period 2008-2015. \n",
    "\n",
    "In conclusion, the results can not be verified for all industries with a high probability of collusion, this raises the question whether the *empirical screen* will flag other industries as collusive? Further research should be conducted on this issue. \n",
    "\n"
   ]
  },
  {
   "cell_type": "markdown",
   "metadata": {},
   "source": [
    "<a id= '9' ></a> "
   ]
  },
  {
   "cell_type": "markdown",
   "metadata": {},
   "source": [
    "# Conclusion \n",
    "\n",
    "Though it is currently hard to imagine economic analysis being used for the discovery and prosecution of cartels, a more active role in identifying industries worthy of closer inspection is a necessary tool to increase probability of discovering cartels. For example, Madoff’s Ponzi Scheme, the NASDAQ alleged conspiracy and LIBOR manipulation– have two common components: they were all initially flagged by *empirical screens*, and none by competition authorities or other relevant agencies.\n",
    "\n",
    "The *empirical screen* developped here is a first step in the development of a tool that can do senstive analysis on many different industries provided there is data avaiable for multiple years. Furthermore there should be enough data within the year otherwise indicators might point towards collusion eventhough there is none. "
   ]
  },
  {
   "cell_type": "markdown",
   "metadata": {},
   "source": [
    "<a id= '10' ></a> "
   ]
  },
  {
   "cell_type": "markdown",
   "metadata": {},
   "source": [
    "# References\n",
    "\n",
    "1) Harrington, J. E. (2008). Detecting cartels. Handbook of antitrust economics, 1, 213-258.\n",
    "\n",
    "2) Heesch, van V. (2017) The probability of collusion in European industries.  \n",
    "\n",
    "3) Grout, P. A., & Sonderegger, S. (2005). Predicting Cartels, Office of Fair Trading Discussion Paper (OFT 773). UK Office of Fair Trading, London.\n"
   ]
  }
 ],
 "metadata": {
  "kernelspec": {
   "display_name": "Python 3",
   "language": "python",
   "name": "python3"
  },
  "language_info": {
   "codemirror_mode": {
    "name": "ipython",
    "version": 3
   },
   "file_extension": ".py",
   "mimetype": "text/x-python",
   "name": "python",
   "nbconvert_exporter": "python",
   "pygments_lexer": "ipython3",
   "version": "3.5.4"
  }
 },
 "nbformat": 4,
 "nbformat_minor": 2
}
